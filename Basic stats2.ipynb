{
 "cells": [
  {
   "cell_type": "markdown",
   "id": "896045de",
   "metadata": {},
   "source": [
    "# Estimation And Confidence Intervals\n"
   ]
  },
  {
   "cell_type": "markdown",
   "id": "cd775af0",
   "metadata": {},
   "source": [
    "Data\n",
    "A total of 15 print-heads were randomly selected and tested until failure. The durability of each print-head (in millions of characters) was recorded as follows:\n",
    "1.13, 1.55, 1.43, 0.92, 1.25, 1.36, 1.32, 0.85, 1.07, 1.48, 1.20, 1.33, 1.18, 1.22, 1.29\n"
   ]
  },
  {
   "cell_type": "markdown",
   "id": "2d86b008",
   "metadata": {},
   "source": [
    "# Assignment Tasks\n",
    "\n",
    "\n"
   ]
  },
  {
   "cell_type": "markdown",
   "id": "52794933",
   "metadata": {},
   "source": [
    "# a. Build 99% Confidence Interval Using Sample Standard Deviation\n",
    "Assuming the sample is representative of the population, construct a 99% confidence interval for the mean number of characters printed before the print-head fails using the sample standard deviation. Explain the steps you take and the rationale behind using the t-distribution for this task.\n"
   ]
  },
  {
   "cell_type": "code",
   "execution_count": 1,
   "id": "b5e2def7",
   "metadata": {},
   "outputs": [
    {
     "name": "stdout",
     "output_type": "stream",
     "text": [
      "99% Confidence Interval Using Sample Standard Deviation:\n",
      "Sample Mean: 1.2386666666666666\n",
      "Sample Standard Deviation: 0.19316412956959936\n",
      "Critical t-value: 2.97684273411266\n",
      "Margin of Error: 0.1484693282152996\n",
      "Confidence Interval: (1.090197338451367, 1.3871359948819662)\n"
     ]
    }
   ],
   "source": [
    "import numpy as np\n",
    "from scipy.stats import t\n",
    "\n",
    "# Sample data\n",
    "durability = np.array([1.13, 1.55, 1.43, 0.92, 1.25, 1.36, 1.32, 0.85, 1.07, 1.48, 1.20, 1.33, 1.18, 1.22, 1.29])\n",
    "sample_mean = np.mean(durability)\n",
    "sample_std = np.std(durability, ddof=1)  # Using sample standard deviation with ddof=1\n",
    "\n",
    "# Confidence level and degrees of freedom\n",
    "confidence_level = 0.99\n",
    "df = len(durability) - 1\n",
    "\n",
    "# Calculate the critical t-value\n",
    "alpha = 1 - confidence_level\n",
    "t_critical = t.ppf(1 - alpha / 2, df)\n",
    "\n",
    "# Calculate margin of error\n",
    "margin_of_error = t_critical * sample_std / np.sqrt(len(durability))\n",
    "\n",
    "# Construct confidence interval\n",
    "confidence_interval = (sample_mean - margin_of_error, sample_mean + margin_of_error)\n",
    "\n",
    "print(\"99% Confidence Interval Using Sample Standard Deviation:\")\n",
    "print(f\"Sample Mean: {sample_mean}\")\n",
    "print(f\"Sample Standard Deviation: {sample_std}\")\n",
    "print(f\"Critical t-value: {t_critical}\")\n",
    "print(f\"Margin of Error: {margin_of_error}\")\n",
    "print(f\"Confidence Interval: {confidence_interval}\")\n"
   ]
  },
  {
   "cell_type": "markdown",
   "id": "a184e36f",
   "metadata": {},
   "source": [
    "# b. Build 99% Confidence Interval Using Known Population Standard Deviation\n",
    "If it were known that the population standard deviation is 0.2 million characters, construct a 99% confidence interval for the mean number of characters printed before failure.\n"
   ]
  },
  {
   "cell_type": "code",
   "execution_count": 6,
   "id": "91521eea",
   "metadata": {},
   "outputs": [
    {
     "name": "stdout",
     "output_type": "stream",
     "text": [
      "99% Confidence Interval Using Known Population Standard Deviation:\n",
      "Population Standard Deviation: 0.2\n",
      "Critical z-value: 2.576\n",
      "Margin of Error: 0.13302406799773742\n",
      "Confidence Interval: (1.105642598668929, 1.371690734664404)\n"
     ]
    }
   ],
   "source": [
    "# Given population standard deviation\n",
    "population_std = 0.2  # in millions of characters\n",
    "\n",
    "# Calculate the critical z-value\n",
    "z_critical = 2.576  # For a 99% confidence level\n",
    "\n",
    "# Calculate margin of error\n",
    "margin_of_error_known_std = z_critical * population_std / np.sqrt(len(durability))\n",
    "\n",
    "# Construct confidence interval\n",
    "confidence_interval_known_std = (sample_mean - margin_of_error_known_std, sample_mean + margin_of_error_known_std)\n",
    "\n",
    "print(\"99% Confidence Interval Using Known Population Standard Deviation:\")\n",
    "print(f\"Population Standard Deviation: {population_std}\")\n",
    "print(f\"Critical z-value: {z_critical}\")\n",
    "print(f\"Margin of Error: {margin_of_error_known_std}\")\n",
    "print(f\"Confidence Interval: {confidence_interval_known_std}\")\n"
   ]
  },
  {
   "cell_type": "code",
   "execution_count": null,
   "id": "02cca567",
   "metadata": {},
   "outputs": [],
   "source": []
  }
 ],
 "metadata": {
  "kernelspec": {
   "display_name": "Python 3 (ipykernel)",
   "language": "python",
   "name": "python3"
  },
  "language_info": {
   "codemirror_mode": {
    "name": "ipython",
    "version": 3
   },
   "file_extension": ".py",
   "mimetype": "text/x-python",
   "name": "python",
   "nbconvert_exporter": "python",
   "pygments_lexer": "ipython3",
   "version": "3.11.4"
  }
 },
 "nbformat": 4,
 "nbformat_minor": 5
}
