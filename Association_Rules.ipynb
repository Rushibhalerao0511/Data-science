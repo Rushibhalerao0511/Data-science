{
 "cells": [
  {
   "cell_type": "markdown",
   "id": "27d8f07c",
   "metadata": {},
   "source": [
    "# Association Rules"
   ]
  },
  {
   "cell_type": "markdown",
   "id": "da63fae4",
   "metadata": {},
   "source": [
    "The Objective of this assignment is to introduce students to rule mining techniques, particularly focusing on market basket analysis and provide hands on experience."
   ]
  },
  {
   "cell_type": "markdown",
   "id": "b6941bbd",
   "metadata": {},
   "source": [
    "## Data Preprocessing:\n",
    "Pre-process the dataset to ensure it is suitable for Association rules, this may include handling missing values, removing duplicates, and converting the data to appropriate format.  \n"
   ]
  },
  {
   "cell_type": "code",
   "execution_count": 1,
   "id": "3dd1c3a2",
   "metadata": {},
   "outputs": [
    {
     "name": "stdout",
     "output_type": "stream",
     "text": [
      "<class 'pandas.core.frame.DataFrame'>\n",
      "RangeIndex: 7500 entries, 0 to 7499\n",
      "Data columns (total 1 columns):\n",
      " #   Column                                                                                                                                                                                                                           Non-Null Count  Dtype \n",
      "---  ------                                                                                                                                                                                                                           --------------  ----- \n",
      " 0   shrimp,almonds,avocado,vegetables mix,green grapes,whole weat flour,yams,cottage cheese,energy drink,tomato juice,low fat yogurt,green tea,honey,salad,mineral water,salmon,antioxydant juice,frozen smoothie,spinach,olive oil  7500 non-null   object\n",
      "dtypes: object(1)\n",
      "memory usage: 58.7+ KB\n"
     ]
    }
   ],
   "source": [
    "import pandas as pd\n",
    "\n",
    "\n",
    "# Load the dataset\n",
    "df = pd.read_excel('Online Retail.xlsx')\n",
    "\n",
    "# Display basic information about the dataset\n",
    "df.info()"
   ]
  },
  {
   "cell_type": "code",
   "execution_count": 2,
   "id": "d144b1a1",
   "metadata": {},
   "outputs": [
    {
     "data": {
      "text/html": [
       "<div>\n",
       "<style scoped>\n",
       "    .dataframe tbody tr th:only-of-type {\n",
       "        vertical-align: middle;\n",
       "    }\n",
       "\n",
       "    .dataframe tbody tr th {\n",
       "        vertical-align: top;\n",
       "    }\n",
       "\n",
       "    .dataframe thead th {\n",
       "        text-align: right;\n",
       "    }\n",
       "</style>\n",
       "<table border=\"1\" class=\"dataframe\">\n",
       "  <thead>\n",
       "    <tr style=\"text-align: right;\">\n",
       "      <th></th>\n",
       "      <th>shrimp,almonds,avocado,vegetables mix,green grapes,whole weat flour,yams,cottage cheese,energy drink,tomato juice,low fat yogurt,green tea,honey,salad,mineral water,salmon,antioxydant juice,frozen smoothie,spinach,olive oil</th>\n",
       "    </tr>\n",
       "  </thead>\n",
       "  <tbody>\n",
       "    <tr>\n",
       "      <th>0</th>\n",
       "      <td>burgers,meatballs,eggs</td>\n",
       "    </tr>\n",
       "    <tr>\n",
       "      <th>1</th>\n",
       "      <td>chutney</td>\n",
       "    </tr>\n",
       "    <tr>\n",
       "      <th>2</th>\n",
       "      <td>turkey,avocado</td>\n",
       "    </tr>\n",
       "    <tr>\n",
       "      <th>3</th>\n",
       "      <td>mineral water,milk,energy bar,whole wheat rice...</td>\n",
       "    </tr>\n",
       "    <tr>\n",
       "      <th>4</th>\n",
       "      <td>low fat yogurt</td>\n",
       "    </tr>\n",
       "    <tr>\n",
       "      <th>...</th>\n",
       "      <td>...</td>\n",
       "    </tr>\n",
       "    <tr>\n",
       "      <th>7495</th>\n",
       "      <td>butter,light mayo,fresh bread</td>\n",
       "    </tr>\n",
       "    <tr>\n",
       "      <th>7496</th>\n",
       "      <td>burgers,frozen vegetables,eggs,french fries,ma...</td>\n",
       "    </tr>\n",
       "    <tr>\n",
       "      <th>7497</th>\n",
       "      <td>chicken</td>\n",
       "    </tr>\n",
       "    <tr>\n",
       "      <th>7498</th>\n",
       "      <td>escalope,green tea</td>\n",
       "    </tr>\n",
       "    <tr>\n",
       "      <th>7499</th>\n",
       "      <td>eggs,frozen smoothie,yogurt cake,low fat yogurt</td>\n",
       "    </tr>\n",
       "  </tbody>\n",
       "</table>\n",
       "<p>7500 rows × 1 columns</p>\n",
       "</div>"
      ],
      "text/plain": [
       "     shrimp,almonds,avocado,vegetables mix,green grapes,whole weat flour,yams,cottage cheese,energy drink,tomato juice,low fat yogurt,green tea,honey,salad,mineral water,salmon,antioxydant juice,frozen smoothie,spinach,olive oil\n",
       "0                                burgers,meatballs,eggs                                                                                                                                                                             \n",
       "1                                               chutney                                                                                                                                                                             \n",
       "2                                        turkey,avocado                                                                                                                                                                             \n",
       "3     mineral water,milk,energy bar,whole wheat rice...                                                                                                                                                                             \n",
       "4                                        low fat yogurt                                                                                                                                                                             \n",
       "...                                                 ...                                                                                                                                                                             \n",
       "7495                      butter,light mayo,fresh bread                                                                                                                                                                             \n",
       "7496  burgers,frozen vegetables,eggs,french fries,ma...                                                                                                                                                                             \n",
       "7497                                            chicken                                                                                                                                                                             \n",
       "7498                                 escalope,green tea                                                                                                                                                                             \n",
       "7499    eggs,frozen smoothie,yogurt cake,low fat yogurt                                                                                                                                                                             \n",
       "\n",
       "[7500 rows x 1 columns]"
      ]
     },
     "execution_count": 2,
     "metadata": {},
     "output_type": "execute_result"
    }
   ],
   "source": [
    "df.head(7500)"
   ]
  },
  {
   "cell_type": "code",
   "execution_count": 3,
   "id": "e9f2bc90",
   "metadata": {},
   "outputs": [],
   "source": [
    "df.columns = ['Transaction']\n"
   ]
  },
  {
   "cell_type": "code",
   "execution_count": 4,
   "id": "25bbe36b",
   "metadata": {},
   "outputs": [
    {
     "data": {
      "text/html": [
       "<div>\n",
       "<style scoped>\n",
       "    .dataframe tbody tr th:only-of-type {\n",
       "        vertical-align: middle;\n",
       "    }\n",
       "\n",
       "    .dataframe tbody tr th {\n",
       "        vertical-align: top;\n",
       "    }\n",
       "\n",
       "    .dataframe thead th {\n",
       "        text-align: right;\n",
       "    }\n",
       "</style>\n",
       "<table border=\"1\" class=\"dataframe\">\n",
       "  <thead>\n",
       "    <tr style=\"text-align: right;\">\n",
       "      <th></th>\n",
       "      <th>Transaction</th>\n",
       "    </tr>\n",
       "  </thead>\n",
       "  <tbody>\n",
       "    <tr>\n",
       "      <th>0</th>\n",
       "      <td>burgers,meatballs,eggs</td>\n",
       "    </tr>\n",
       "    <tr>\n",
       "      <th>1</th>\n",
       "      <td>chutney</td>\n",
       "    </tr>\n",
       "    <tr>\n",
       "      <th>2</th>\n",
       "      <td>turkey,avocado</td>\n",
       "    </tr>\n",
       "    <tr>\n",
       "      <th>3</th>\n",
       "      <td>mineral water,milk,energy bar,whole wheat rice...</td>\n",
       "    </tr>\n",
       "    <tr>\n",
       "      <th>4</th>\n",
       "      <td>low fat yogurt</td>\n",
       "    </tr>\n",
       "  </tbody>\n",
       "</table>\n",
       "</div>"
      ],
      "text/plain": [
       "                                         Transaction\n",
       "0                             burgers,meatballs,eggs\n",
       "1                                            chutney\n",
       "2                                     turkey,avocado\n",
       "3  mineral water,milk,energy bar,whole wheat rice...\n",
       "4                                     low fat yogurt"
      ]
     },
     "execution_count": 4,
     "metadata": {},
     "output_type": "execute_result"
    }
   ],
   "source": [
    "df.head()"
   ]
  },
  {
   "cell_type": "code",
   "execution_count": 5,
   "id": "ef527fe7",
   "metadata": {},
   "outputs": [],
   "source": [
    "# Transform the data into a list of lists\n",
    "transactions = df['Transaction'].apply(lambda x: x.split(','))"
   ]
  },
  {
   "cell_type": "code",
   "execution_count": 6,
   "id": "837d1451",
   "metadata": {},
   "outputs": [
    {
     "data": {
      "text/plain": [
       "0                           [burgers, meatballs, eggs]\n",
       "1                                            [chutney]\n",
       "2                                    [turkey, avocado]\n",
       "3    [mineral water, milk, energy bar, whole wheat ...\n",
       "4                                     [low fat yogurt]\n",
       "Name: Transaction, dtype: object"
      ]
     },
     "execution_count": 6,
     "metadata": {},
     "output_type": "execute_result"
    }
   ],
   "source": [
    "transactions.head()"
   ]
  },
  {
   "cell_type": "markdown",
   "id": "0958f687",
   "metadata": {},
   "source": [
    "## Step 2: Association Rule Mining"
   ]
  },
  {
   "cell_type": "code",
   "execution_count": 7,
   "id": "14dd7090",
   "metadata": {},
   "outputs": [
    {
     "name": "stdout",
     "output_type": "stream",
     "text": [
      "Requirement already satisfied: mlxtend in c:\\users\\harsh\\anaconda3\\lib\\site-packages (0.23.1)\n",
      "Requirement already satisfied: scipy>=1.2.1 in c:\\users\\harsh\\anaconda3\\lib\\site-packages (from mlxtend) (1.10.1)\n",
      "Requirement already satisfied: numpy>=1.16.2 in c:\\users\\harsh\\anaconda3\\lib\\site-packages (from mlxtend) (1.24.3)\n",
      "Requirement already satisfied: pandas>=0.24.2 in c:\\users\\harsh\\anaconda3\\lib\\site-packages (from mlxtend) (1.5.3)\n",
      "Requirement already satisfied: scikit-learn>=1.0.2 in c:\\users\\harsh\\anaconda3\\lib\\site-packages (from mlxtend) (1.3.0)\n",
      "Requirement already satisfied: matplotlib>=3.0.0 in c:\\users\\harsh\\anaconda3\\lib\\site-packages (from mlxtend) (3.7.1)\n",
      "Requirement already satisfied: joblib>=0.13.2 in c:\\users\\harsh\\anaconda3\\lib\\site-packages (from mlxtend) (1.1.1)\n",
      "Requirement already satisfied: contourpy>=1.0.1 in c:\\users\\harsh\\anaconda3\\lib\\site-packages (from matplotlib>=3.0.0->mlxtend) (1.0.5)\n",
      "Requirement already satisfied: cycler>=0.10 in c:\\users\\harsh\\anaconda3\\lib\\site-packages (from matplotlib>=3.0.0->mlxtend) (0.11.0)\n",
      "Requirement already satisfied: fonttools>=4.22.0 in c:\\users\\harsh\\anaconda3\\lib\\site-packages (from matplotlib>=3.0.0->mlxtend) (4.25.0)\n",
      "Requirement already satisfied: kiwisolver>=1.0.1 in c:\\users\\harsh\\anaconda3\\lib\\site-packages (from matplotlib>=3.0.0->mlxtend) (1.4.4)\n",
      "Requirement already satisfied: packaging>=20.0 in c:\\users\\harsh\\anaconda3\\lib\\site-packages (from matplotlib>=3.0.0->mlxtend) (23.0)\n",
      "Requirement already satisfied: pillow>=6.2.0 in c:\\users\\harsh\\anaconda3\\lib\\site-packages (from matplotlib>=3.0.0->mlxtend) (10.3.0)\n",
      "Requirement already satisfied: pyparsing>=2.3.1 in c:\\users\\harsh\\anaconda3\\lib\\site-packages (from matplotlib>=3.0.0->mlxtend) (3.0.9)\n",
      "Requirement already satisfied: python-dateutil>=2.7 in c:\\users\\harsh\\anaconda3\\lib\\site-packages (from matplotlib>=3.0.0->mlxtend) (2.8.2)\n",
      "Requirement already satisfied: pytz>=2020.1 in c:\\users\\harsh\\anaconda3\\lib\\site-packages (from pandas>=0.24.2->mlxtend) (2022.7)\n",
      "Requirement already satisfied: threadpoolctl>=2.0.0 in c:\\users\\harsh\\anaconda3\\lib\\site-packages (from scikit-learn>=1.0.2->mlxtend) (2.2.0)\n",
      "Requirement already satisfied: six>=1.5 in c:\\users\\harsh\\anaconda3\\lib\\site-packages (from python-dateutil>=2.7->matplotlib>=3.0.0->mlxtend) (1.16.0)\n"
     ]
    }
   ],
   "source": [
    "!pip install mlxtend\n"
   ]
  },
  {
   "cell_type": "code",
   "execution_count": 21,
   "id": "d13b130c",
   "metadata": {},
   "outputs": [],
   "source": [
    "from mlxtend.preprocessing import TransactionEncoder\n",
    "from mlxtend.frequent_patterns import apriori, association_rules\n",
    "\n",
    "# Initialize the transaction encoder\n",
    "te = TransactionEncoder()\n",
    "\n",
    "# Fit and transform the transaction data\n",
    "te_ary = te.fit(transactions).transform(transactions)\n",
    "\n",
    "# Convert the transaction data to a DataFrame\n",
    "df = pd.DataFrame(te_ary, columns=te.columns_)\n",
    "\n",
    "\n",
    "# Define support and confidence thresholds to explore\n",
    "support_values = [0.01, 0.02, 0.03, 0.04, 0.05]\n",
    "confidence_values = [0.1, 0.2, 0.3, 0.4, 0.5]\n",
    "\n",
    "# Function to generate rules for given support and confidence thresholds\n",
    "def generate_rules(support, confidence):\n",
    "    # Apply the Apriori algorithm to find frequent itemsets\n",
    "    frequent_itemsets = apriori(df, min_support=support, use_colnames=True)\n",
    "    # Check if frequent itemsets is empty\n",
    "    if frequent_itemsets.empty:\n",
    "        return pd.DataFrame()    \n",
    "    # Generate rules\n",
    "    rules = association_rules(frequent_itemsets, metric=\"confidence\", min_threshold=confidence)\n",
    "    return rules"
   ]
  },
  {
   "cell_type": "code",
   "execution_count": 22,
   "id": "22cc6feb",
   "metadata": {},
   "outputs": [],
   "source": [
    "# Explore different support and confidence thresholds\n",
    "all_rules = []\n",
    "for support in support_values:\n",
    "    for confidence in confidence_values:\n",
    "        rules = generate_rules(support, confidence)\n",
    "        if not rules.empty:\n",
    "            rules['support_threshold'] = support\n",
    "            rules['confidence_threshold'] = confidence\n",
    "            all_rules.append(rules)\n",
    "\n",
    "# Combine all rules into a single DataFrame\n",
    "all_rules_df = pd.concat(all_rules, ignore_index=True)"
   ]
  },
  {
   "cell_type": "markdown",
   "id": "d3e9ae08",
   "metadata": {},
   "source": [
    "## Step 3: Analysis and Interpretation"
   ]
  },
  {
   "cell_type": "code",
   "execution_count": 23,
   "id": "49dc6cb2",
   "metadata": {},
   "outputs": [
    {
     "name": "stdout",
     "output_type": "stream",
     "text": [
      "                    antecedents                 consequents  \\\n",
      "187             (herb & pepper)               (ground beef)   \n",
      "499             (herb & pepper)               (ground beef)   \n",
      "398             (herb & pepper)               (ground beef)   \n",
      "188               (ground beef)             (herb & pepper)   \n",
      "475  (spaghetti, mineral water)               (ground beef)   \n",
      "310               (ground beef)  (spaghetti, mineral water)   \n",
      "307  (spaghetti, mineral water)               (ground beef)   \n",
      "318                 (olive oil)  (spaghetti, mineral water)   \n",
      "315  (spaghetti, mineral water)                 (olive oil)   \n",
      "392                  (tomatoes)         (frozen vegetables)   \n",
      "\n",
      "     antecedent support  consequent support   support  confidence      lift  \\\n",
      "187            0.049467            0.098267  0.016000    0.323450  3.291555   \n",
      "499            0.049467            0.098267  0.016000    0.323450  3.291555   \n",
      "398            0.049467            0.098267  0.016000    0.323450  3.291555   \n",
      "188            0.098267            0.049467  0.016000    0.162822  3.291555   \n",
      "475            0.059733            0.098267  0.017067    0.285714  2.907540   \n",
      "310            0.098267            0.059733  0.017067    0.173677  2.907540   \n",
      "307            0.059733            0.098267  0.017067    0.285714  2.907540   \n",
      "318            0.065733            0.059733  0.010267    0.156187  2.614731   \n",
      "315            0.059733            0.065733  0.010267    0.171875  2.614731   \n",
      "392            0.068400            0.095333  0.016133    0.235867  2.474134   \n",
      "\n",
      "     leverage  conviction  zhangs_metric  support_threshold  \\\n",
      "187  0.011139    1.332841       0.732423               0.01   \n",
      "499  0.011139    1.332841       0.732423               0.01   \n",
      "398  0.011139    1.332841       0.732423               0.01   \n",
      "188  0.011139    1.135402       0.772060               0.01   \n",
      "475  0.011197    1.262427       0.697745               0.01   \n",
      "310  0.011197    1.137893       0.727562               0.01   \n",
      "307  0.011197    1.262427       0.697745               0.01   \n",
      "318  0.006340    1.114306       0.661001               0.01   \n",
      "315  0.006340    1.128171       0.656783               0.01   \n",
      "392  0.009613    1.183913       0.639564               0.01   \n",
      "\n",
      "     confidence_threshold  \n",
      "187                   0.1  \n",
      "499                   0.3  \n",
      "398                   0.2  \n",
      "188                   0.1  \n",
      "475                   0.2  \n",
      "310                   0.1  \n",
      "307                   0.1  \n",
      "318                   0.1  \n",
      "315                   0.1  \n",
      "392                   0.2  \n",
      "Rule: herb & pepper -> ground beef\n",
      "Support: 0.02, Confidence: 0.32, Lift: 3.29\n",
      "\n",
      "Rule: herb & pepper -> ground beef\n",
      "Support: 0.02, Confidence: 0.32, Lift: 3.29\n",
      "\n",
      "Rule: herb & pepper -> ground beef\n",
      "Support: 0.02, Confidence: 0.32, Lift: 3.29\n",
      "\n",
      "Rule: ground beef -> herb & pepper\n",
      "Support: 0.02, Confidence: 0.16, Lift: 3.29\n",
      "\n",
      "Rule: spaghetti, mineral water -> ground beef\n",
      "Support: 0.02, Confidence: 0.29, Lift: 2.91\n",
      "\n",
      "Rule: ground beef -> spaghetti, mineral water\n",
      "Support: 0.02, Confidence: 0.17, Lift: 2.91\n",
      "\n",
      "Rule: spaghetti, mineral water -> ground beef\n",
      "Support: 0.02, Confidence: 0.29, Lift: 2.91\n",
      "\n",
      "Rule: olive oil -> spaghetti, mineral water\n",
      "Support: 0.01, Confidence: 0.16, Lift: 2.61\n",
      "\n",
      "Rule: spaghetti, mineral water -> olive oil\n",
      "Support: 0.01, Confidence: 0.17, Lift: 2.61\n",
      "\n",
      "Rule: tomatoes -> frozen vegetables\n",
      "Support: 0.02, Confidence: 0.24, Lift: 2.47\n",
      "\n"
     ]
    }
   ],
   "source": [
    "# Sort rules by lift in descending order\n",
    "all_rules_df = all_rules_df.sort_values(by='lift', ascending=False)\n",
    "\n",
    "# Display the top 10 rules for analysis\n",
    "top_10_rules = all_rules_df.head(10)\n",
    "print(top_10_rules)\n",
    "\n",
    "# Interpret the results\n",
    "for idx, row in top_10_rules.iterrows():\n",
    "    antecedents = ', '.join(list(row['antecedents']))\n",
    "    consequents = ', '.join(list(row['consequents']))\n",
    "    print(f\"Rule: {antecedents} -> {consequents}\")\n",
    "    print(f\"Support: {row['support']:.2f}, Confidence: {row['confidence']:.2f}, Lift: {row['lift']:.2f}\\n\")"
   ]
  },
  {
   "cell_type": "markdown",
   "id": "c09463d5",
   "metadata": {},
   "source": [
    "\n",
    "\n",
    "\n",
    "### a. What is lift and why is it important in Association rules?\n",
    "Lift is a measure used in association rule mining to evaluate the strength and importance of a rule. It is defined as the ratio of the observed support of an itemset (A and B occurring together) to the expected support if A and B were independent. Mathematically, it can be expressed as:\n",
    "\n",
    "Lift(𝐴→𝐵) = 𝑃(𝐴∩𝐵) / 𝑃(𝐴)×𝑃(𝐵)\n",
    "\n",
    "Where:\n",
    "\n",
    "1.P(A∩B) is the support of the itemset {A,B}, i.e., the proportion of transactions containing both A and B.\n",
    "\n",
    "2.P(A) is the support of item A.\n",
    "\n",
    "3.P(B) is the support of item B.\n",
    "\n",
    "Importance of Lift:\n",
    "\n",
    "1.Interpreting Association Strength: A lift value greater than 1 indicates that the items A and B occur together more frequently than would be expected if they were independent. A lift less than 1 suggests a negative association.\n",
    "2.Comparison Across Rules: Lift provides a way to compare the strength of different association rules, irrespective of the item frequencies.\n",
    "3.Identifying Interesting Rules: Rules with a high lift are often more interesting and actionable because they reveal stronger associations.\n",
    "\n",
    "\n",
    "### b. What is support and Confidence? How do you calculate them?\n",
    "Support and Confidence are fundamental metrics used in association rule mining to measure the significance and reliability of the rules.\n",
    "\n",
    "Support: The support of an itemset is the proportion of transactions in the dataset that contain the itemset. It indicates how frequently an itemset appears in the dataset. For an itemset {A,B}, support is calculated as:\n",
    "\n",
    "Support(A∩B)= Total number of transactions / Number of transactions containing {A,B}\n",
    "\n",
    "Confidence: Confidence of a rule A→B is the proportion of transactions containing A that also contain B. It measures the reliability of the inference made by the rule. Confidence is calculated as:\n",
    "\n",
    "Confidence(A→B)= Support(A) / Support(A∩B)\n",
    "\n",
    " \n",
    "\n",
    "Where:\n",
    "\n",
    "1.Support(𝐴∩𝐵) is the support of the itemset containing both A and B.\n",
    "\n",
    "2.Support(A) is the support of the itemset containing A.\n",
    "\n",
    "\n",
    "### c. What are some limitations or challenges of Association rules mining?\n",
    "While association rule mining is a powerful technique, it comes with several limitations and challenges:\n",
    "\n",
    "1.Scalability: Large datasets with many items can lead to an exponential number of possible itemsets, making the computation of frequent itemsets and rules very resource-intensive.\n",
    "\n",
    "2.Data Sparsity: In datasets where items are sparsely distributed, finding meaningful associations can be challenging. Many discovered rules might have low support, making them less useful.\n",
    "\n",
    "3.Interestingness Measures: Metrics like support, confidence, and lift may not always capture the most interesting or useful rules. Sometimes, additional measures such as conviction, leverage, or novelty are needed.\n",
    "\n",
    "4.Redundancy: Association rule mining can produce a large number of redundant or trivial rules. Filtering and interpreting these rules require additional effort and domain knowledge.\n",
    "\n",
    "5.Overfitting: Rules may fit the specific dataset well but may not generalize to new data. This can happen if the rules capture noise or spurious correlations.\n",
    "\n",
    "6.Actionability: Not all discovered rules are actionable or useful in practice. Determining which rules are actionable requires domain expertise and further analysis.\n",
    "\n",
    "7.Parameter Sensitivity: The results of association rule mining are sensitive to the choice of parameters such as minimum support and minimum confidence thresholds. Setting these parameters appropriately can be challenging.\n",
    "\n",
    "8.Imbalanced Data: When dealing with imbalanced datasets, common items may overshadow rare but potentially interesting items, leading to biased results.\n"
   ]
  },
  {
   "cell_type": "code",
   "execution_count": null,
   "id": "3bf38dc2",
   "metadata": {},
   "outputs": [],
   "source": [
    "\n"
   ]
  },
  {
   "cell_type": "code",
   "execution_count": null,
   "id": "6d003bbb",
   "metadata": {},
   "outputs": [],
   "source": []
  },
  {
   "cell_type": "code",
   "execution_count": null,
   "id": "4c60e581",
   "metadata": {},
   "outputs": [],
   "source": []
  },
  {
   "cell_type": "code",
   "execution_count": null,
   "id": "1f4ab4f0",
   "metadata": {},
   "outputs": [],
   "source": []
  },
  {
   "cell_type": "code",
   "execution_count": null,
   "id": "c0e0faf0",
   "metadata": {},
   "outputs": [],
   "source": []
  }
 ],
 "metadata": {
  "kernelspec": {
   "display_name": "Python 3 (ipykernel)",
   "language": "python",
   "name": "python3"
  },
  "language_info": {
   "codemirror_mode": {
    "name": "ipython",
    "version": 3
   },
   "file_extension": ".py",
   "mimetype": "text/x-python",
   "name": "python",
   "nbconvert_exporter": "python",
   "pygments_lexer": "ipython3",
   "version": "3.11.4"
  }
 },
 "nbformat": 4,
 "nbformat_minor": 5
}
