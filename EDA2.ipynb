{
 "cells": [
  {
   "cell_type": "markdown",
   "id": "242878df",
   "metadata": {},
   "source": [
    "# Data Preprocessing and Feature Engineering in Machine Learning\n",
    "\n",
    "### Objective:\n",
    "This assignment aims to equip you with practical skills in data preprocessing, feature engineering, and feature selection techniques, which are crucial for building efficient machine learning models. You will work with a provided dataset to apply various techniques such as scaling, encoding, and feature selection methods including isolation forest and PPS score analysis.\n",
    "\n",
    "### Dataset:\n",
    "Given \"Adult\" dataset, which predicts whether income exceeds $50K/yr based on census data.\n"
   ]
  },
  {
   "cell_type": "markdown",
   "id": "6ab18559",
   "metadata": {},
   "source": [
    "### 1. Data Exploration and Preprocessing\n",
    "##### a. Load the dataset and conduct basic data exploration:"
   ]
  },
  {
   "cell_type": "code",
   "execution_count": 41,
   "id": "743f34c6",
   "metadata": {},
   "outputs": [
    {
     "name": "stdout",
     "output_type": "stream",
     "text": [
      "Requirement already satisfied: ppscore in c:\\users\\harsh\\anaconda3\\lib\\site-packages (1.3.0)\n",
      "Requirement already satisfied: pandas<2.0.0,>=1.0.0 in c:\\users\\harsh\\anaconda3\\lib\\site-packages (from ppscore) (1.5.3)\n",
      "Requirement already satisfied: scikit-learn<2.0.0,>=0.20.2 in c:\\users\\harsh\\anaconda3\\lib\\site-packages (from ppscore) (1.3.0)\n",
      "Requirement already satisfied: python-dateutil>=2.8.1 in c:\\users\\harsh\\anaconda3\\lib\\site-packages (from pandas<2.0.0,>=1.0.0->ppscore) (2.8.2)\n",
      "Requirement already satisfied: pytz>=2020.1 in c:\\users\\harsh\\anaconda3\\lib\\site-packages (from pandas<2.0.0,>=1.0.0->ppscore) (2022.7)\n",
      "Requirement already satisfied: numpy>=1.21.0 in c:\\users\\harsh\\anaconda3\\lib\\site-packages (from pandas<2.0.0,>=1.0.0->ppscore) (1.24.3)\n",
      "Requirement already satisfied: scipy>=1.5.0 in c:\\users\\harsh\\anaconda3\\lib\\site-packages (from scikit-learn<2.0.0,>=0.20.2->ppscore) (1.10.1)\n",
      "Requirement already satisfied: joblib>=1.1.1 in c:\\users\\harsh\\anaconda3\\lib\\site-packages (from scikit-learn<2.0.0,>=0.20.2->ppscore) (1.1.1)\n",
      "Requirement already satisfied: threadpoolctl>=2.0.0 in c:\\users\\harsh\\anaconda3\\lib\\site-packages (from scikit-learn<2.0.0,>=0.20.2->ppscore) (2.2.0)\n",
      "Requirement already satisfied: six>=1.5 in c:\\users\\harsh\\anaconda3\\lib\\site-packages (from python-dateutil>=2.8.1->pandas<2.0.0,>=1.0.0->ppscore) (1.16.0)\n",
      "<class 'pandas.core.frame.DataFrame'>\n",
      "RangeIndex: 12294 entries, 0 to 12293\n",
      "Data columns (total 7 columns):\n",
      " #   Column    Non-Null Count  Dtype  \n",
      "---  ------    --------------  -----  \n",
      " 0   anime_id  12294 non-null  int64  \n",
      " 1   name      12294 non-null  object \n",
      " 2   genre     12232 non-null  object \n",
      " 3   type      12269 non-null  object \n",
      " 4   episodes  12294 non-null  object \n",
      " 5   rating    12064 non-null  float64\n",
      " 6   members   12294 non-null  int64  \n",
      "dtypes: float64(1), int64(2), object(4)\n",
      "memory usage: 672.5+ KB\n",
      "None\n"
     ]
    }
   ],
   "source": [
    "!pip install ppscore\n",
    "import pandas as pd\n",
    "\n",
    "# Load the dataset\n",
    "df = pd.read_csv('anime.csv')\n",
    "\n",
    "# Basic data exploration\n",
    "print(df.info())\n"
   ]
  },
  {
   "cell_type": "code",
   "execution_count": 17,
   "id": "5f5681f2",
   "metadata": {},
   "outputs": [
    {
     "name": "stdout",
     "output_type": "stream",
     "text": [
      "           anime_id        rating       members\n",
      "count  12294.000000  12064.000000  1.229400e+04\n",
      "mean   14058.221653      6.473902  1.807134e+04\n",
      "std    11455.294701      1.026746  5.482068e+04\n",
      "min        1.000000      1.670000  5.000000e+00\n",
      "25%     3484.250000      5.880000  2.250000e+02\n",
      "50%    10260.500000      6.570000  1.550000e+03\n",
      "75%    24794.500000      7.180000  9.437000e+03\n",
      "max    34527.000000     10.000000  1.013917e+06\n"
     ]
    }
   ],
   "source": [
    "print(df.describe())\n"
   ]
  },
  {
   "cell_type": "code",
   "execution_count": 18,
   "id": "56bd2bb9",
   "metadata": {},
   "outputs": [
    {
     "name": "stdout",
     "output_type": "stream",
     "text": [
      "anime_id      0\n",
      "name          0\n",
      "genre        62\n",
      "type         25\n",
      "episodes      0\n",
      "rating      230\n",
      "members       0\n",
      "dtype: int64\n"
     ]
    },
    {
     "data": {
      "text/html": [
       "<div>\n",
       "<style scoped>\n",
       "    .dataframe tbody tr th:only-of-type {\n",
       "        vertical-align: middle;\n",
       "    }\n",
       "\n",
       "    .dataframe tbody tr th {\n",
       "        vertical-align: top;\n",
       "    }\n",
       "\n",
       "    .dataframe thead th {\n",
       "        text-align: right;\n",
       "    }\n",
       "</style>\n",
       "<table border=\"1\" class=\"dataframe\">\n",
       "  <thead>\n",
       "    <tr style=\"text-align: right;\">\n",
       "      <th></th>\n",
       "      <th>anime_id</th>\n",
       "      <th>name</th>\n",
       "      <th>genre</th>\n",
       "      <th>type</th>\n",
       "      <th>episodes</th>\n",
       "      <th>rating</th>\n",
       "      <th>members</th>\n",
       "    </tr>\n",
       "  </thead>\n",
       "  <tbody>\n",
       "    <tr>\n",
       "      <th>0</th>\n",
       "      <td>32281</td>\n",
       "      <td>Kimi no Na wa.</td>\n",
       "      <td>Drama, Romance, School, Supernatural</td>\n",
       "      <td>Movie</td>\n",
       "      <td>1</td>\n",
       "      <td>9.37</td>\n",
       "      <td>200630</td>\n",
       "    </tr>\n",
       "    <tr>\n",
       "      <th>1</th>\n",
       "      <td>5114</td>\n",
       "      <td>Fullmetal Alchemist: Brotherhood</td>\n",
       "      <td>Action, Adventure, Drama, Fantasy, Magic, Mili...</td>\n",
       "      <td>TV</td>\n",
       "      <td>64</td>\n",
       "      <td>9.26</td>\n",
       "      <td>793665</td>\n",
       "    </tr>\n",
       "    <tr>\n",
       "      <th>2</th>\n",
       "      <td>28977</td>\n",
       "      <td>Gintama°</td>\n",
       "      <td>Action, Comedy, Historical, Parody, Samurai, S...</td>\n",
       "      <td>TV</td>\n",
       "      <td>51</td>\n",
       "      <td>9.25</td>\n",
       "      <td>114262</td>\n",
       "    </tr>\n",
       "    <tr>\n",
       "      <th>3</th>\n",
       "      <td>9253</td>\n",
       "      <td>Steins;Gate</td>\n",
       "      <td>Sci-Fi, Thriller</td>\n",
       "      <td>TV</td>\n",
       "      <td>24</td>\n",
       "      <td>9.17</td>\n",
       "      <td>673572</td>\n",
       "    </tr>\n",
       "    <tr>\n",
       "      <th>4</th>\n",
       "      <td>9969</td>\n",
       "      <td>Gintama&amp;#039;</td>\n",
       "      <td>Action, Comedy, Historical, Parody, Samurai, S...</td>\n",
       "      <td>TV</td>\n",
       "      <td>51</td>\n",
       "      <td>9.16</td>\n",
       "      <td>151266</td>\n",
       "    </tr>\n",
       "  </tbody>\n",
       "</table>\n",
       "</div>"
      ],
      "text/plain": [
       "   anime_id                              name  \\\n",
       "0     32281                    Kimi no Na wa.   \n",
       "1      5114  Fullmetal Alchemist: Brotherhood   \n",
       "2     28977                          Gintama°   \n",
       "3      9253                       Steins;Gate   \n",
       "4      9969                     Gintama&#039;   \n",
       "\n",
       "                                               genre   type episodes  rating  \\\n",
       "0               Drama, Romance, School, Supernatural  Movie        1    9.37   \n",
       "1  Action, Adventure, Drama, Fantasy, Magic, Mili...     TV       64    9.26   \n",
       "2  Action, Comedy, Historical, Parody, Samurai, S...     TV       51    9.25   \n",
       "3                                   Sci-Fi, Thriller     TV       24    9.17   \n",
       "4  Action, Comedy, Historical, Parody, Samurai, S...     TV       51    9.16   \n",
       "\n",
       "   members  \n",
       "0   200630  \n",
       "1   793665  \n",
       "2   114262  \n",
       "3   673572  \n",
       "4   151266  "
      ]
     },
     "execution_count": 18,
     "metadata": {},
     "output_type": "execute_result"
    }
   ],
   "source": [
    "print(df.isnull().sum())\n",
    "df.head()\n"
   ]
  },
  {
   "cell_type": "markdown",
   "id": "617324c5",
   "metadata": {},
   "source": [
    "##### b. Handle missing values:\n",
    "\n",
    "For missing values, depending on the feature, we can either impute or remove them."
   ]
  },
  {
   "cell_type": "code",
   "execution_count": 19,
   "id": "279c8705",
   "metadata": {},
   "outputs": [
    {
     "name": "stderr",
     "output_type": "stream",
     "text": [
      "C:\\Users\\harsh\\AppData\\Local\\Temp\\ipykernel_21232\\4210190011.py:2: FutureWarning: The default value of numeric_only in DataFrame.mean is deprecated. In a future version, it will default to False. In addition, specifying 'numeric_only=None' is deprecated. Select only valid columns or specify the value of numeric_only to silence this warning.\n",
      "  df.fillna(df.mean(), inplace=True)\n"
     ]
    }
   ],
   "source": [
    "#Fill missing values for numerical columns with the mean\n",
    "df.fillna(df.mean(), inplace=True)\n",
    "df['type'].fillna(df['type'].mode(), inplace=True)\n",
    "\n",
    "#Drop rows where categorical data is missing\n",
    "df.dropna(subset=['genre'], inplace=True)\n"
   ]
  },
  {
   "cell_type": "code",
   "execution_count": 31,
   "id": "283802c1",
   "metadata": {},
   "outputs": [],
   "source": [
    "categorical_columns = df.select_dtypes(include=['object']).columns\n",
    "\n",
    "for column in categorical_columns:\n",
    "    df[column].fillna(df[column].mode()[0], inplace=True)\n"
   ]
  },
  {
   "cell_type": "code",
   "execution_count": 32,
   "id": "c0919d23",
   "metadata": {},
   "outputs": [
    {
     "name": "stdout",
     "output_type": "stream",
     "text": [
      "anime_id    0\n",
      "name        0\n",
      "genre       0\n",
      "type        0\n",
      "episodes    0\n",
      "rating      0\n",
      "members     0\n",
      "dtype: int64\n"
     ]
    }
   ],
   "source": [
    "print(df.isnull().sum())"
   ]
  },
  {
   "cell_type": "markdown",
   "id": "35adc62a",
   "metadata": {},
   "source": [
    "### 2. Encoding Techniques\n",
    "Apply One-Hot Encoding and Label Encoding:"
   ]
  },
  {
   "cell_type": "code",
   "execution_count": 33,
   "id": "1f8b4646",
   "metadata": {},
   "outputs": [],
   "source": [
    "from sklearn.preprocessing import OneHotEncoder, LabelEncoder\n",
    "\n",
    "# One-Hot Encoding for categorical variables with less than 5 categories\n",
    "df = pd.get_dummies(df, columns=['type'], drop_first=True)\n",
    "\n",
    "# Label Encoding for categorical variables with more than 5 categories\n",
    "le = LabelEncoder()\n",
    "df['genre'] = le.fit_transform(df['genre'])\n"
   ]
  },
  {
   "cell_type": "markdown",
   "id": "c73dd140",
   "metadata": {},
   "source": [
    "##### Discuss the pros and cons of One-Hot Encoding and Label Encoding\n",
    "\n",
    "a. One-Hot Encoding pros: Avoids ordinality, useful for algorithms that cannot understand categorical data directly. Cons: Can lead to a high-dimensional sparse matrix if categories are numerous.\n",
    "\n",
    "b. Label Encoding pros: Simple and efficient. Cons: Imposes ordinality which might not exist in the data, potentially leading to incorrect model assumptions."
   ]
  },
  {
   "cell_type": "markdown",
   "id": "abc0f40d",
   "metadata": {},
   "source": [
    "### 3. Feature Engineering\n",
    "Create new features and apply transformations:"
   ]
  },
  {
   "cell_type": "code",
   "execution_count": 35,
   "id": "dcba4af5",
   "metadata": {},
   "outputs": [],
   "source": [
    "import numpy as np \n",
    "\n",
    "# New feature: Average rating per member\n",
    "df['rating_per_member'] = df['rating'] / df['members']\n",
    "\n",
    "# New feature: Log transformation for members to handle skewness\n",
    "df['log_members'] = np.log1p(df['members'])\n"
   ]
  },
  {
   "cell_type": "markdown",
   "id": "a9e1e4b1",
   "metadata": {},
   "source": [
    "##### Rationale:\n",
    "\n",
    "'rating_per_member' provides a normalized rating which can help in understanding the popularity and quality of the anime more accurately.\n",
    "\n",
    "Applying a log transformation to 'members' reduces skewness and can help improve model performance for algorithms sensitive to feature distributions."
   ]
  },
  {
   "cell_type": "markdown",
   "id": "32673167",
   "metadata": {},
   "source": [
    "### 4. Feature Selection\n",
    "Use Isolation Forest to identify and remove outliers:"
   ]
  },
  {
   "cell_type": "code",
   "execution_count": 36,
   "id": "ec49fb71",
   "metadata": {},
   "outputs": [],
   "source": [
    "from sklearn.ensemble import IsolationForest\n",
    "\n",
    "# Use Isolation Forest\n",
    "iso = IsolationForest(contamination=0.1)\n",
    "outliers = iso.fit_predict(df[['rating', 'members']])\n",
    "df['outlier'] = outliers\n",
    "df = df[df['outlier'] == 1]\n",
    "df.drop('outlier', axis=1, inplace=True)\n"
   ]
  },
  {
   "cell_type": "markdown",
   "id": "107f16e1",
   "metadata": {},
   "source": [
    "##### Discussion on outliers:\n",
    "Outliers can skew the model training process, leading to poor generalization. Identifying and removing outliers ensures that the model is trained on data that represents the true distribution."
   ]
  },
  {
   "cell_type": "markdown",
   "id": "6f0a09b9",
   "metadata": {},
   "source": [
    "##### Apply Predictive Power Score (PPS) and compare with correlation matrix:"
   ]
  },
  {
   "cell_type": "code",
   "execution_count": 42,
   "id": "7e5de3b8",
   "metadata": {},
   "outputs": [
    {
     "name": "stderr",
     "output_type": "stream",
     "text": [
      "C:\\Users\\harsh\\anaconda3\\Lib\\site-packages\\sklearn\\model_selection\\_split.py:725: UserWarning: The least populated class in y has only 1 members, which is less than n_splits=4.\n",
      "  warnings.warn(\n",
      "C:\\Users\\harsh\\anaconda3\\Lib\\site-packages\\sklearn\\model_selection\\_split.py:725: UserWarning: The least populated class in y has only 1 members, which is less than n_splits=4.\n",
      "  warnings.warn(\n",
      "C:\\Users\\harsh\\anaconda3\\Lib\\site-packages\\sklearn\\model_selection\\_split.py:725: UserWarning: The least populated class in y has only 1 members, which is less than n_splits=4.\n",
      "  warnings.warn(\n",
      "C:\\Users\\harsh\\anaconda3\\Lib\\site-packages\\sklearn\\model_selection\\_split.py:725: UserWarning: The least populated class in y has only 1 members, which is less than n_splits=4.\n",
      "  warnings.warn(\n",
      "C:\\Users\\harsh\\anaconda3\\Lib\\site-packages\\sklearn\\model_selection\\_split.py:725: UserWarning: The least populated class in y has only 1 members, which is less than n_splits=4.\n",
      "  warnings.warn(\n",
      "C:\\Users\\harsh\\anaconda3\\Lib\\site-packages\\sklearn\\model_selection\\_split.py:725: UserWarning: The least populated class in y has only 1 members, which is less than n_splits=4.\n",
      "  warnings.warn(\n",
      "C:\\Users\\harsh\\anaconda3\\Lib\\site-packages\\sklearn\\model_selection\\_split.py:725: UserWarning: The least populated class in y has only 1 members, which is less than n_splits=4.\n",
      "  warnings.warn(\n",
      "C:\\Users\\harsh\\anaconda3\\Lib\\site-packages\\sklearn\\model_selection\\_split.py:725: UserWarning: The least populated class in y has only 1 members, which is less than n_splits=4.\n",
      "  warnings.warn(\n",
      "C:\\Users\\harsh\\anaconda3\\Lib\\site-packages\\sklearn\\model_selection\\_split.py:725: UserWarning: The least populated class in y has only 1 members, which is less than n_splits=4.\n",
      "  warnings.warn(\n"
     ]
    },
    {
     "name": "stdout",
     "output_type": "stream",
     "text": [
      "           x         y   ppscore            case  is_valid_score  \\\n",
      "0   anime_id  anime_id  1.000000  predict_itself            True   \n",
      "1   anime_id      name  0.000000    target_is_id            True   \n",
      "2   anime_id     genre  0.085535  classification            True   \n",
      "3   anime_id      type  0.182616  classification            True   \n",
      "4   anime_id  episodes  0.012390  classification            True   \n",
      "5   anime_id    rating  0.000000      regression            True   \n",
      "6   anime_id   members  0.000000      regression            True   \n",
      "7       name  anime_id  0.000000   feature_is_id            True   \n",
      "8       name      name  1.000000  predict_itself            True   \n",
      "9       name     genre  0.000000   feature_is_id            True   \n",
      "10      name      type  0.000000  classification            True   \n",
      "11      name  episodes  0.000000   feature_is_id            True   \n",
      "12      name    rating  0.000000   feature_is_id            True   \n",
      "13      name   members  0.000000   feature_is_id            True   \n",
      "14     genre  anime_id  0.087295      regression            True   \n",
      "15     genre      name  0.000000    target_is_id            True   \n",
      "16     genre     genre  1.000000  predict_itself            True   \n",
      "17     genre      type  0.272826  classification            True   \n",
      "18     genre  episodes  0.068275  classification            True   \n",
      "19     genre    rating  0.117349      regression            True   \n",
      "20     genre   members  0.000000      regression            True   \n",
      "21      type  anime_id  0.030582      regression            True   \n",
      "22      type      name  0.000000   unknown_error           False   \n",
      "23      type     genre  0.039267  classification            True   \n",
      "24      type      type  1.000000  predict_itself            True   \n",
      "25      type  episodes  0.150049  classification            True   \n",
      "26      type    rating  0.071781      regression            True   \n",
      "27      type   members  0.000000      regression            True   \n",
      "28  episodes  anime_id  0.065166      regression            True   \n",
      "29  episodes      name  0.000000    target_is_id            True   \n",
      "30  episodes     genre  0.021159  classification            True   \n",
      "31  episodes      type  0.422063  classification            True   \n",
      "32  episodes  episodes  1.000000  predict_itself            True   \n",
      "33  episodes    rating  0.039556      regression            True   \n",
      "34  episodes   members  0.000000      regression            True   \n",
      "35    rating  anime_id  0.047069      regression            True   \n",
      "36    rating      name  0.000000    target_is_id            True   \n",
      "37    rating     genre  0.008162  classification            True   \n",
      "38    rating      type  0.106970  classification            True   \n",
      "39    rating  episodes  0.002576  classification            True   \n",
      "40    rating    rating  1.000000  predict_itself            True   \n",
      "41    rating   members  0.000000      regression            True   \n",
      "42   members  anime_id  0.028528      regression            True   \n",
      "43   members      name  0.000000    target_is_id            True   \n",
      "44   members     genre  0.012300  classification            True   \n",
      "45   members      type  0.063368  classification            True   \n",
      "46   members  episodes  0.019126  classification            True   \n",
      "47   members    rating  0.057727      regression            True   \n",
      "48   members   members  1.000000  predict_itself            True   \n",
      "\n",
      "                 metric  baseline_score   model_score  \\\n",
      "0                  None        0.000000      1.000000   \n",
      "1                  None        0.000000      0.000000   \n",
      "2           weighted F1        0.008200      0.093033   \n",
      "3           weighted F1        0.237800      0.376990   \n",
      "4           weighted F1        0.290925      0.299711   \n",
      "5   mean absolute error        0.797992      0.916564   \n",
      "6   mean absolute error    18664.813800  27894.117800   \n",
      "7                  None        0.000000      0.000000   \n",
      "8                  None        0.000000      1.000000   \n",
      "9                  None        0.000000      0.000000   \n",
      "10          weighted F1        0.237800      0.151419   \n",
      "11                 None        0.000000      0.000000   \n",
      "12                 None        0.000000      0.000000   \n",
      "13                 None        0.000000      0.000000   \n",
      "14  mean absolute error     9861.860400   9000.974024   \n",
      "15                 None        0.000000      0.000000   \n",
      "16                 None        0.000000      1.000000   \n",
      "17          weighted F1        0.234000      0.442985   \n",
      "18          weighted F1        0.296043      0.344105   \n",
      "19  mean absolute error        0.791598      0.698705   \n",
      "20  mean absolute error    18446.712200  20755.953357   \n",
      "21  mean absolute error     9831.805000   9531.124760   \n",
      "22                 None        0.000000      0.000000   \n",
      "23          weighted F1        0.010200      0.049066   \n",
      "24                 None        0.000000      1.000000   \n",
      "25          weighted F1        0.292628      0.398769   \n",
      "26  mean absolute error        0.797992      0.740712   \n",
      "27  mean absolute error    18732.656400  24246.582758   \n",
      "28  mean absolute error    10049.694000   9394.794318   \n",
      "29                 None        0.000000      0.000000   \n",
      "30          weighted F1        0.008200      0.029186   \n",
      "31          weighted F1        0.237800      0.559496   \n",
      "32                 None        0.000000      1.000000   \n",
      "33  mean absolute error        0.797992      0.766427   \n",
      "34  mean absolute error    18664.813800  22661.172882   \n",
      "35  mean absolute error     9715.780800   9258.464590   \n",
      "36                 None        0.000000      0.000000   \n",
      "37          weighted F1        0.007982      0.016079   \n",
      "38          weighted F1        0.236000      0.317725   \n",
      "39          weighted F1        0.295829      0.297643   \n",
      "40                 None        0.000000      1.000000   \n",
      "41  mean absolute error    18851.107200  20515.055203   \n",
      "42  mean absolute error    10049.694000   9762.993724   \n",
      "43                 None        0.000000      0.000000   \n",
      "44          weighted F1        0.008200      0.020399   \n",
      "45          weighted F1        0.237800      0.286099   \n",
      "46          weighted F1        0.290925      0.304487   \n",
      "47  mean absolute error        0.797992      0.751927   \n",
      "48                 None        0.000000      1.000000   \n",
      "\n",
      "                       model  \n",
      "0                       None  \n",
      "1                       None  \n",
      "2   DecisionTreeClassifier()  \n",
      "3   DecisionTreeClassifier()  \n",
      "4   DecisionTreeClassifier()  \n",
      "5    DecisionTreeRegressor()  \n",
      "6    DecisionTreeRegressor()  \n",
      "7                       None  \n",
      "8                       None  \n",
      "9                       None  \n",
      "10  DecisionTreeClassifier()  \n",
      "11                      None  \n",
      "12                      None  \n",
      "13                      None  \n",
      "14   DecisionTreeRegressor()  \n",
      "15                      None  \n",
      "16                      None  \n",
      "17  DecisionTreeClassifier()  \n",
      "18  DecisionTreeClassifier()  \n",
      "19   DecisionTreeRegressor()  \n",
      "20   DecisionTreeRegressor()  \n",
      "21   DecisionTreeRegressor()  \n",
      "22                      None  \n",
      "23  DecisionTreeClassifier()  \n",
      "24                      None  \n",
      "25  DecisionTreeClassifier()  \n",
      "26   DecisionTreeRegressor()  \n",
      "27   DecisionTreeRegressor()  \n",
      "28   DecisionTreeRegressor()  \n",
      "29                      None  \n",
      "30  DecisionTreeClassifier()  \n",
      "31  DecisionTreeClassifier()  \n",
      "32                      None  \n",
      "33   DecisionTreeRegressor()  \n",
      "34   DecisionTreeRegressor()  \n",
      "35   DecisionTreeRegressor()  \n",
      "36                      None  \n",
      "37  DecisionTreeClassifier()  \n",
      "38  DecisionTreeClassifier()  \n",
      "39  DecisionTreeClassifier()  \n",
      "40                      None  \n",
      "41   DecisionTreeRegressor()  \n",
      "42   DecisionTreeRegressor()  \n",
      "43                      None  \n",
      "44  DecisionTreeClassifier()  \n",
      "45  DecisionTreeClassifier()  \n",
      "46  DecisionTreeClassifier()  \n",
      "47   DecisionTreeRegressor()  \n",
      "48                      None  \n",
      "          anime_id    rating   members\n",
      "anime_id  1.000000 -0.284625 -0.080071\n",
      "rating   -0.284625  1.000000  0.387979\n",
      "members  -0.080071  0.387979  1.000000\n"
     ]
    },
    {
     "name": "stderr",
     "output_type": "stream",
     "text": [
      "C:\\Users\\harsh\\anaconda3\\Lib\\site-packages\\sklearn\\model_selection\\_split.py:725: UserWarning: The least populated class in y has only 1 members, which is less than n_splits=4.\n",
      "  warnings.warn(\n",
      "C:\\Users\\harsh\\AppData\\Local\\Temp\\ipykernel_21232\\2048459895.py:7: FutureWarning: The default value of numeric_only in DataFrame.corr is deprecated. In a future version, it will default to False. Select only valid columns or specify the value of numeric_only to silence this warning.\n",
      "  corr_matrix = df.corr()\n"
     ]
    }
   ],
   "source": [
    "\n",
    "import ppscore as pps\n",
    "\n",
    "# Compute PPS matrix\n",
    "pps_matrix = pps.matrix(df)\n",
    "\n",
    "# Compute correlation matrix\n",
    "corr_matrix = df.corr()\n",
    "\n",
    "print(pps_matrix)\n",
    "print(corr_matrix)\n"
   ]
  },
  {
   "cell_type": "markdown",
   "id": "71d28d6d",
   "metadata": {},
   "source": [
    "##### Discussion:\n",
    "\n",
    "PPS measures the predictive power of a feature regarding the target, capturing non-linear relationships, unlike the correlation matrix which only captures linear relationships. Comparing both can provide comprehensive insights into the data."
   ]
  },
  {
   "cell_type": "code",
   "execution_count": null,
   "id": "dba83804",
   "metadata": {},
   "outputs": [],
   "source": []
  }
 ],
 "metadata": {
  "kernelspec": {
   "display_name": "Python 3 (ipykernel)",
   "language": "python",
   "name": "python3"
  },
  "language_info": {
   "codemirror_mode": {
    "name": "ipython",
    "version": 3
   },
   "file_extension": ".py",
   "mimetype": "text/x-python",
   "name": "python",
   "nbconvert_exporter": "python",
   "pygments_lexer": "ipython3",
   "version": "3.11.4"
  }
 },
 "nbformat": 4,
 "nbformat_minor": 5
}
