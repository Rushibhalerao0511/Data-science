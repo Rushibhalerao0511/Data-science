{
 "cells": [
  {
   "cell_type": "markdown",
   "id": "ea77c90a",
   "metadata": {},
   "source": [
    "# Recommendation System"
   ]
  },
  {
   "cell_type": "markdown",
   "id": "dd7305b2",
   "metadata": {},
   "source": [
    "## Objective:\n",
    "The objective of this assignment is to implement a recommendation system using cosine similarity on an anime dataset. \n",
    "## Dataset:\n",
    "Use the Anime Dataset which contains information about various anime, including their titles, genres,No.of episodes and user ratings etc.\n"
   ]
  },
  {
   "cell_type": "markdown",
   "id": "eb35fa14",
   "metadata": {},
   "source": [
    "## Data Preprocessing:\n",
    "\n",
    "Load the dataset into a suitable data structure (e.g., pandas DataFrame).\n",
    "Handle missing values, if any.\n",
    "Explore the dataset to understand its structure and attributes.\n",
    "\n"
   ]
  },
  {
   "cell_type": "code",
   "execution_count": 3,
   "id": "49dccb9e",
   "metadata": {},
   "outputs": [
    {
     "name": "stdout",
     "output_type": "stream",
     "text": [
      "<class 'pandas.core.frame.DataFrame'>\n",
      "RangeIndex: 12294 entries, 0 to 12293\n",
      "Data columns (total 7 columns):\n",
      " #   Column    Non-Null Count  Dtype  \n",
      "---  ------    --------------  -----  \n",
      " 0   anime_id  12294 non-null  int64  \n",
      " 1   name      12294 non-null  object \n",
      " 2   genre     12232 non-null  object \n",
      " 3   type      12269 non-null  object \n",
      " 4   episodes  12294 non-null  object \n",
      " 5   rating    12064 non-null  float64\n",
      " 6   members   12294 non-null  int64  \n",
      "dtypes: float64(1), int64(2), object(4)\n",
      "memory usage: 672.5+ KB\n",
      "None\n"
     ]
    },
    {
     "data": {
      "text/html": [
       "<div>\n",
       "<style scoped>\n",
       "    .dataframe tbody tr th:only-of-type {\n",
       "        vertical-align: middle;\n",
       "    }\n",
       "\n",
       "    .dataframe tbody tr th {\n",
       "        vertical-align: top;\n",
       "    }\n",
       "\n",
       "    .dataframe thead th {\n",
       "        text-align: right;\n",
       "    }\n",
       "</style>\n",
       "<table border=\"1\" class=\"dataframe\">\n",
       "  <thead>\n",
       "    <tr style=\"text-align: right;\">\n",
       "      <th></th>\n",
       "      <th>anime_id</th>\n",
       "      <th>name</th>\n",
       "      <th>genre</th>\n",
       "      <th>type</th>\n",
       "      <th>episodes</th>\n",
       "      <th>rating</th>\n",
       "      <th>members</th>\n",
       "    </tr>\n",
       "  </thead>\n",
       "  <tbody>\n",
       "    <tr>\n",
       "      <th>0</th>\n",
       "      <td>32281</td>\n",
       "      <td>Kimi no Na wa.</td>\n",
       "      <td>Drama, Romance, School, Supernatural</td>\n",
       "      <td>Movie</td>\n",
       "      <td>1</td>\n",
       "      <td>9.37</td>\n",
       "      <td>200630</td>\n",
       "    </tr>\n",
       "    <tr>\n",
       "      <th>1</th>\n",
       "      <td>5114</td>\n",
       "      <td>Fullmetal Alchemist: Brotherhood</td>\n",
       "      <td>Action, Adventure, Drama, Fantasy, Magic, Mili...</td>\n",
       "      <td>TV</td>\n",
       "      <td>64</td>\n",
       "      <td>9.26</td>\n",
       "      <td>793665</td>\n",
       "    </tr>\n",
       "    <tr>\n",
       "      <th>2</th>\n",
       "      <td>28977</td>\n",
       "      <td>Gintama°</td>\n",
       "      <td>Action, Comedy, Historical, Parody, Samurai, S...</td>\n",
       "      <td>TV</td>\n",
       "      <td>51</td>\n",
       "      <td>9.25</td>\n",
       "      <td>114262</td>\n",
       "    </tr>\n",
       "    <tr>\n",
       "      <th>3</th>\n",
       "      <td>9253</td>\n",
       "      <td>Steins;Gate</td>\n",
       "      <td>Sci-Fi, Thriller</td>\n",
       "      <td>TV</td>\n",
       "      <td>24</td>\n",
       "      <td>9.17</td>\n",
       "      <td>673572</td>\n",
       "    </tr>\n",
       "    <tr>\n",
       "      <th>4</th>\n",
       "      <td>9969</td>\n",
       "      <td>Gintama&amp;#039;</td>\n",
       "      <td>Action, Comedy, Historical, Parody, Samurai, S...</td>\n",
       "      <td>TV</td>\n",
       "      <td>51</td>\n",
       "      <td>9.16</td>\n",
       "      <td>151266</td>\n",
       "    </tr>\n",
       "  </tbody>\n",
       "</table>\n",
       "</div>"
      ],
      "text/plain": [
       "   anime_id                              name  \\\n",
       "0     32281                    Kimi no Na wa.   \n",
       "1      5114  Fullmetal Alchemist: Brotherhood   \n",
       "2     28977                          Gintama°   \n",
       "3      9253                       Steins;Gate   \n",
       "4      9969                     Gintama&#039;   \n",
       "\n",
       "                                               genre   type episodes  rating  \\\n",
       "0               Drama, Romance, School, Supernatural  Movie        1    9.37   \n",
       "1  Action, Adventure, Drama, Fantasy, Magic, Mili...     TV       64    9.26   \n",
       "2  Action, Comedy, Historical, Parody, Samurai, S...     TV       51    9.25   \n",
       "3                                   Sci-Fi, Thriller     TV       24    9.17   \n",
       "4  Action, Comedy, Historical, Parody, Samurai, S...     TV       51    9.16   \n",
       "\n",
       "   members  \n",
       "0   200630  \n",
       "1   793665  \n",
       "2   114262  \n",
       "3   673572  \n",
       "4   151266  "
      ]
     },
     "execution_count": 3,
     "metadata": {},
     "output_type": "execute_result"
    }
   ],
   "source": [
    "import pandas as pd\n",
    "\n",
    "# Load the dataset\n",
    "anime_df = pd.read_csv('anime.csv')\n",
    "\n",
    "# Display basic information about the dataset\n",
    "print(anime_df.info())\n",
    "anime_df.head()\n"
   ]
  },
  {
   "cell_type": "code",
   "execution_count": 4,
   "id": "03ce9d89",
   "metadata": {},
   "outputs": [
    {
     "name": "stdout",
     "output_type": "stream",
     "text": [
      "anime_id      0\n",
      "name          0\n",
      "genre        62\n",
      "type         25\n",
      "episodes      0\n",
      "rating      230\n",
      "members       0\n",
      "dtype: int64\n"
     ]
    }
   ],
   "source": [
    "# Check for missing values\n",
    "print(anime_df.isnull().sum())"
   ]
  },
  {
   "cell_type": "code",
   "execution_count": 5,
   "id": "b1a83de4",
   "metadata": {},
   "outputs": [],
   "source": [
    "anime_df.dropna(subset=['rating', 'genre'], inplace=True)"
   ]
  },
  {
   "cell_type": "code",
   "execution_count": 10,
   "id": "b0ceb856",
   "metadata": {},
   "outputs": [
    {
     "data": {
      "text/plain": [
       "anime_id    0\n",
       "name        0\n",
       "genre       0\n",
       "type        0\n",
       "episodes    0\n",
       "rating      0\n",
       "members     0\n",
       "dtype: int64"
      ]
     },
     "execution_count": 10,
     "metadata": {},
     "output_type": "execute_result"
    }
   ],
   "source": [
    "anime_df.isnull().sum()"
   ]
  },
  {
   "cell_type": "code",
   "execution_count": 11,
   "id": "baa947a7",
   "metadata": {},
   "outputs": [
    {
     "name": "stdout",
     "output_type": "stream",
     "text": [
      "           anime_id        rating       members\n",
      "count  12017.000000  12017.000000  1.201700e+04\n",
      "mean   13638.001165      6.478264  1.834888e+04\n",
      "std    11231.076675      1.023857  5.537250e+04\n",
      "min        1.000000      1.670000  1.200000e+01\n",
      "25%     3391.000000      5.890000  2.250000e+02\n",
      "50%     9959.000000      6.570000  1.552000e+03\n",
      "75%    23729.000000      7.180000  9.588000e+03\n",
      "max    34519.000000     10.000000  1.013917e+06\n",
      "['Drama, Romance, School, Supernatural'\n",
      " 'Action, Adventure, Drama, Fantasy, Magic, Military, Shounen'\n",
      " 'Action, Comedy, Historical, Parody, Samurai, Sci-Fi, Shounen' ...\n",
      " 'Action, Comedy, Hentai, Romance, Supernatural' 'Hentai, Sports'\n",
      " 'Hentai, Slice of Life']\n"
     ]
    }
   ],
   "source": [
    "# Summary statistics\n",
    "print(anime_df.describe())\n",
    "\n",
    "# Explore unique genres\n",
    "print(anime_df['genre'].unique())"
   ]
  },
  {
   "cell_type": "markdown",
   "id": "0cfed486",
   "metadata": {},
   "source": [
    "### Feature Extraction:\n",
    "##### a.Convert categorical features into numerical representations (e.g., using TF-IDF for genres):"
   ]
  },
  {
   "cell_type": "code",
   "execution_count": 12,
   "id": "25639c68",
   "metadata": {},
   "outputs": [],
   "source": [
    "from sklearn.feature_extraction.text import TfidfVectorizer\n",
    "from sklearn.preprocessing import MinMaxScaler\n",
    "\n",
    "# Convert genres into a numerical representation using TF-IDF Vectorizer\n",
    "tfidf = TfidfVectorizer(stop_words='english')\n",
    "anime_df['genre'] = anime_df['genre'].fillna('')\n",
    "tfidf_matrix = tfidf.fit_transform(anime_df['genre'])\n",
    "\n",
    "# Normalize the rating column\n",
    "scaler = MinMaxScaler()\n",
    "anime_df['rating'] = scaler.fit_transform(anime_df[['rating']])\n"
   ]
  },
  {
   "cell_type": "markdown",
   "id": "0834db31",
   "metadata": {},
   "source": [
    "##### b.Combine the TF-IDF matrix with the normalized ratings:"
   ]
  },
  {
   "cell_type": "code",
   "execution_count": 13,
   "id": "8c2cff6f",
   "metadata": {},
   "outputs": [],
   "source": [
    "from scipy.sparse import hstack\n",
    "\n",
    "# Combine the TF-IDF matrix with the normalized ratings\n",
    "features_matrix = hstack([tfidf_matrix, anime_df[['rating']]])\n"
   ]
  },
  {
   "cell_type": "markdown",
   "id": "8a6be649",
   "metadata": {},
   "source": [
    "## Task 3: Recommendation System\n",
    ".Compute cosine similarity and create a recommendation function:"
   ]
  },
  {
   "cell_type": "code",
   "execution_count": 20,
   "id": "56a13982",
   "metadata": {},
   "outputs": [],
   "source": [
    "# Compute cosine similarity matrix\n",
    "cosine_sim = cosine_similarity(features_matrix, features_matrix)\n",
    "\n",
    "# Function to get recommendations\n",
    "def get_recommendations(title, cosine_sim=cosine_sim):\n",
    "    try:\n",
    "        # Get the index of the anime that matches the title\n",
    "        idx = anime_df[anime_df['name'] == title].index[0]\n",
    "\n",
    "        # Get the pairwise similarity scores of all anime with that anime\n",
    "        sim_scores = list(enumerate(cosine_sim[idx]))\n",
    "\n",
    "        # Sort the anime based on the similarity scores\n",
    "        sim_scores = sorted(sim_scores, key=lambda x: x[1], reverse=True)\n",
    "\n",
    "        # Get the scores of the 10 most similar anime\n",
    "        sim_scores = sim_scores[1:11]\n",
    "\n",
    "        # Get the anime indices\n",
    "        anime_indices = [i[0] for i in sim_scores]\n",
    "\n",
    "        # Return the top 10 most similar anime\n",
    "        return anime_df['name'].iloc[anime_indices]\n",
    "    except IndexError:\n",
    "        return \"Anime not found in the dataset.\"\n",
    "\n"
   ]
  },
  {
   "cell_type": "markdown",
   "id": "d328fecd",
   "metadata": {},
   "source": [
    "## Evaluation\n",
    "##### a.Split the dataset into training and testing sets (for user-item interaction evaluation, we'll need to simulate this):"
   ]
  },
  {
   "cell_type": "code",
   "execution_count": 21,
   "id": "55709270",
   "metadata": {},
   "outputs": [],
   "source": [
    "from sklearn.model_selection import train_test_split\n",
    "from sklearn.metrics import precision_score, recall_score, f1_score\n",
    "import numpy as np\n",
    "\n",
    "# Simulate user-anime interaction data\n",
    "np.random.seed(42)\n",
    "user_anime_interactions = pd.DataFrame({\n",
    "    'user_id': np.random.randint(1, 1001, 10000),\n",
    "    'anime_id': np.random.randint(0, len(anime_df), 10000),\n",
    "    'rating': np.random.randint(1, 6, 10000)\n",
    "})\n",
    "\n",
    "# Merge to get anime names\n",
    "user_anime_interactions = user_anime_interactions.merge(anime_df[['anime_id', 'name']], left_on='anime_id', right_on='anime_id')\n",
    "\n",
    "# Train-test split\n",
    "train, test = train_test_split(user_anime_interactions, test_size=0.2, random_state=42)\n"
   ]
  },
  {
   "cell_type": "markdown",
   "id": "2ea92aff",
   "metadata": {},
   "source": [
    "##### b.Evaluate the recommendation system using appropriate metrics such as precision, recall, and F1-score.\n"
   ]
  },
  {
   "cell_type": "code",
   "execution_count": 22,
   "id": "a9ec8a53",
   "metadata": {},
   "outputs": [
    {
     "name": "stdout",
     "output_type": "stream",
     "text": [
      "Precision: 1.0\n",
      "Recall: 0.0036231884057971015\n",
      "F1-Score: 0.007220216606498195\n"
     ]
    }
   ],
   "source": [
    "# For each user in the test set, get the ground truth and the predicted recommendations\n",
    "def evaluate_recommendations(train, test, k=10):\n",
    "    y_true = []\n",
    "    y_pred = []\n",
    "\n",
    "    for user_id in test['user_id'].unique():\n",
    "        # Get the anime watched by the user in the training set\n",
    "        watched_anime_train = train[train['user_id'] == user_id]['name'].tolist()\n",
    "\n",
    "        # Get the anime watched by the user in the test set (ground truth)\n",
    "        watched_anime_test = test[test['user_id'] == user_id]['name'].tolist()\n",
    "        y_true.extend([1] * len(watched_anime_test))\n",
    "\n",
    "        # Get recommendations for each watched anime\n",
    "        user_recommendations = []\n",
    "        for anime in watched_anime_train:\n",
    "            recommended_anime = get_recommendations(anime)\n",
    "            user_recommendations.extend(recommended_anime)\n",
    "\n",
    "        # Flatten and get the top k recommendations\n",
    "        user_recommendations = list(set(user_recommendations))\n",
    "        y_pred.extend([1 if anime in user_recommendations else 0 for anime in watched_anime_test])\n",
    "\n",
    "    precision = precision_score(y_true, y_pred, average='binary')\n",
    "    recall = recall_score(y_true, y_pred, average='binary')\n",
    "    f1 = f1_score(y_true, y_pred, average='binary')\n",
    "\n",
    "    return precision, recall, f1\n",
    "\n",
    "# Evaluate the recommendations\n",
    "precision, recall, f1 = evaluate_recommendations(train, test)\n",
    "print(f\"Precision: {precision}\")\n",
    "print(f\"Recall: {recall}\")\n",
    "print(f\"F1-Score: {f1}\")\n"
   ]
  },
  {
   "cell_type": "code",
   "execution_count": null,
   "id": "e17247b7",
   "metadata": {},
   "outputs": [],
   "source": []
  }
 ],
 "metadata": {
  "kernelspec": {
   "display_name": "Python 3 (ipykernel)",
   "language": "python",
   "name": "python3"
  },
  "language_info": {
   "codemirror_mode": {
    "name": "ipython",
    "version": 3
   },
   "file_extension": ".py",
   "mimetype": "text/x-python",
   "name": "python",
   "nbconvert_exporter": "python",
   "pygments_lexer": "ipython3",
   "version": "3.11.4"
  }
 },
 "nbformat": 4,
 "nbformat_minor": 5
}
