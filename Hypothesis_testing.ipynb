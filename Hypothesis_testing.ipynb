{
 "cells": [
  {
   "cell_type": "markdown",
   "id": "47307531",
   "metadata": {},
   "source": [
    "# Hypothesis Testing\n"
   ]
  },
  {
   "cell_type": "markdown",
   "id": "860ebc94",
   "metadata": {},
   "source": [
    "### Background:\n",
    "Bombay hospitality Ltd. operates a franchise model for producing exotic Norwegian dinners throughout New England. The operating cost for a franchise in a week (W) is given by the equation W = $1,000 + $5X, where X represents the number of units produced in a week. Recent feedback from restaurant owners suggests that this cost model may no longer be accurate, as their observed weekly operating costs are higher.\n",
    "### Objective:\n",
    "To investigate the restaurant owners' claim about the increase in weekly operating costs using hypothesis testing.\n"
   ]
  },
  {
   "cell_type": "markdown",
   "id": "758bb2cc",
   "metadata": {},
   "source": [
    "####  Data Provided:\n",
    "The theoretical weekly operating cost model: W = $1,000 + $5X\n",
    "\n",
    "Sample of 25 restaurants with a mean weekly cost of Rs. 3,050\n",
    "\n",
    "Number of units produced in a week (X) follows a normal distribution with a mean (μ) of 600 units and a standard deviation (σ) of 25 units\n"
   ]
  },
  {
   "cell_type": "markdown",
   "id": "eb18ca82",
   "metadata": {},
   "source": [
    "#Assignment Tasks:\n",
    "#1.State the Hypotheses statement:\n",
    "\n",
    "Null hypothesis (Ho): The mean weekly operating cost is equal to the theoretical mean weekly cost according to the cost model ($1,000 + $5X for X = 600 units).\n",
    "\n",
    "              Ho: μ = 1000 + 5*600 = $4000\n",
    "              \n",
    "Alternate hypothesis(H1):The mean weekly operating cost is higher than the theoretical mean weekly                              cost according to the cost model.\n",
    "\n",
    "              H1: μ > 4000"
   ]
  },
  {
   "cell_type": "markdown",
   "id": "3c93b965",
   "metadata": {},
   "source": [
    "#### 2. Calculate the Test Statistic:"
   ]
  },
  {
   "cell_type": "code",
   "execution_count": 2,
   "id": "68fa263a",
   "metadata": {},
   "outputs": [
    {
     "name": "stdout",
     "output_type": "stream",
     "text": [
      "t-statistic: -38.0\n"
     ]
    }
   ],
   "source": [
    "\n",
    "\n",
    "import numpy as np\n",
    "from scipy.stats import t\n",
    "# Given data\n",
    "sample_mean = 3050  # sample mean weekly cost\n",
    "theoretical_mean = 4000  # theoretical mean weekly cost\n",
    "std_dev = 5 * 25  # standard deviation\n",
    "sample_size = 25  # sample size\n",
    "\n",
    "# Calculate the t-statistic\n",
    "t_statistic = (sample_mean - theoretical_mean) / (std_dev / np.sqrt(sample_size))\n",
    "print(\"t-statistic:\", t_statistic)"
   ]
  },
  {
   "cell_type": "markdown",
   "id": "b7dc6ec8",
   "metadata": {},
   "source": [
    "#### 3. Determine the Critical Value:"
   ]
  },
  {
   "cell_type": "code",
   "execution_count": 3,
   "id": "a2483a3f",
   "metadata": {},
   "outputs": [
    {
     "name": "stdout",
     "output_type": "stream",
     "text": [
      "Critical value: 1.7108820799094275\n"
     ]
    }
   ],
   "source": [
    "\n",
    "\n",
    "alpha = 0.05\n",
    "df = sample_size - 1\n",
    "critical_value = t.ppf(1 - alpha, df)\n",
    "print(\"Critical value:\", critical_value)\n",
    "\n"
   ]
  },
  {
   "cell_type": "markdown",
   "id": "00f261ba",
   "metadata": {},
   "source": [
    "#### 4. Make a Decision:"
   ]
  },
  {
   "cell_type": "code",
   "execution_count": 4,
   "id": "01e18c78",
   "metadata": {},
   "outputs": [
    {
     "name": "stdout",
     "output_type": "stream",
     "text": [
      "Fail to reject the null hypothesis.\n"
     ]
    }
   ],
   "source": [
    "\n",
    "if t_statistic > critical_value:\n",
    "    print(\"Reject the null hypothesis. There is sufficient evidence to support the alternative hypothesis.\")\n",
    "else:\n",
    "    print(\"Fail to reject the null hypothesis.\")"
   ]
  },
  {
   "cell_type": "markdown",
   "id": "16396378",
   "metadata": {},
   "source": [
    "#### 5.Conclusion :\n",
    "Based on the decision, there is strong evidence to support the restaurant owners' claim that the weekly operating costs are higher than the model suggests."
   ]
  },
  {
   "cell_type": "code",
   "execution_count": null,
   "id": "875ecbeb",
   "metadata": {},
   "outputs": [],
   "source": []
  }
 ],
 "metadata": {
  "kernelspec": {
   "display_name": "Python 3 (ipykernel)",
   "language": "python",
   "name": "python3"
  },
  "language_info": {
   "codemirror_mode": {
    "name": "ipython",
    "version": 3
   },
   "file_extension": ".py",
   "mimetype": "text/x-python",
   "name": "python",
   "nbconvert_exporter": "python",
   "pygments_lexer": "ipython3",
   "version": "3.11.4"
  }
 },
 "nbformat": 4,
 "nbformat_minor": 5
}
